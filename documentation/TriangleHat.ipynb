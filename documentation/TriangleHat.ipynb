{
 "cells": [
  {
   "cell_type": "markdown",
   "metadata": {},
   "source": [
    "# Triangle Hat interactive pattern by Terri Oda\n",
    "\n",
    "> Triangle hat, triangle hat, triangle hat fights particle hat. They have a fight, triangle wins. Triangle hat.\n",
    "> -- [With apologies to They Might Be Giants](https://www.youtube.com/watch?v=sNT8SMlqLJA)\n",
    "\n",
    "This is a [simple colourwork hat originally published on curiousity.ca](https://curiousity.ca/2016/triangle-hat/).  I originally wrote it in one size with instructions for converting it yourself, so it seemed like a great thing to be an interactive pattern in pyKnit."
   ]
  },
  {
   "cell_type": "markdown",
   "metadata": {},
   "source": [
    "![Triangle Hat](TriangleHat.jpg)\n",
    "\n",
    "*Triangle Hat Knit in 4 colours*"
   ]
  },
  {
   "cell_type": "code",
   "execution_count": 1,
   "metadata": {},
   "outputs": [],
   "source": [
    "import pyknit\n",
    "\n",
    "# Set gauge\n",
    "# original gauge was 21 stitches per 4 inches and didn't specify row gauge because it used measurements instead of row numbers\n",
    "# re-measuring the hat gets me...\n",
    "\n",
    "gauge = pyknit.GaugeSwatch(row_count=52, row_measure=4, stitch_count=21, stitch_measure=4, units=\"in\")"
   ]
  },
  {
   "cell_type": "code",
   "execution_count": 2,
   "metadata": {},
   "outputs": [
    {
     "name": "stdout",
     "output_type": "stream",
     "text": [
      "Cast on estimate for my desired size: 116\n"
     ]
    }
   ],
   "source": [
    "# My head is around 22 inches and I don't like my hats super tight so let's start with that\n",
    "\n",
    "cast_on_estimate = gauge.measurement_to_stitches(22)\n",
    "print(f\"Cast on estimate for my desired size: {cast_on_estimate}\")"
   ]
  },
  {
   "cell_type": "code",
   "execution_count": 3,
   "metadata": {},
   "outputs": [
    {
     "name": "stdout",
     "output_type": "stream",
     "text": [
      "Number of chart repeats 14\n"
     ]
    }
   ],
   "source": [
    "# the chart in this hat is 8 stitches wide, so what's the closest I can get with an 8 stitch repeat?\n",
    "\n",
    "number_of_repeats = round(cast_on_estimate / 8)\n",
    "print(f\"Number of chart repeats {number_of_repeats}\")"
   ]
  },
  {
   "cell_type": "code",
   "execution_count": 4,
   "metadata": {},
   "outputs": [
    {
     "name": "stdout",
     "output_type": "stream",
     "text": [
      "Cast on 112 stitches\n"
     ]
    }
   ],
   "source": [
    "# So I need to cast on this many stitches ...\n",
    "\n",
    "cast_on = number_of_repeats*8\n",
    "\n",
    "instructions = []\n",
    "instructions.append(f\"Cast on {cast_on} stitches\")\n",
    "print(instructions[0])"
   ]
  },
  {
   "cell_type": "code",
   "execution_count": 5,
   "metadata": {},
   "outputs": [
    {
     "name": "stdout",
     "output_type": "stream",
     "text": [
      "Final hat circumference: 21.333333333333332in\n"
     ]
    }
   ],
   "source": [
    "# Let's just double-check that we like that size.  You can tweak it by adding or removing a repeat above\n",
    "# Typically, you want a hat to be a little bit tight (have negative ease) so that it will stretch and stay on\n",
    "\n",
    "hat_circumference = gauge.stitches_to_measurement(112)\n",
    "print(f\"Final hat circumference: {hat_circumference}{gauge.units}\")"
   ]
  },
  {
   "cell_type": "code",
   "execution_count": 6,
   "metadata": {},
   "outputs": [],
   "source": [
    "brim_instructions = \"{k2 through the back loop, p2} repeat around\"\n",
    "# we want around 1 inch of brim\n",
    "brim_rows = gauge.measurement_to_rows(1)\n",
    "instructions.append(\"Brim:\")\n",
    "instructions.append(f\"Rows 1-{brim_rows}: {brim_instructions} ({int(cast_on/4)} repeats total)\")"
   ]
  },
  {
   "cell_type": "code",
   "execution_count": 7,
   "metadata": {},
   "outputs": [],
   "source": [
    "# create a stitch legend for when we get to charts\n",
    "stitch_legend = {\n",
    "    \"k\": {\n",
    "        \"instruction\": \"knit with main colour\",\n",
    "        \"symbol\": \" \",\n",
    "        \"width\": 1,\n",
    "    },\n",
    "    \"p\": {\n",
    "        \"instruction\": \"purl with main colour\",\n",
    "        \"symbol\": \"-\",\n",
    "        \"width\": 1,\n",
    "    },\n",
    "    \"k2tog\": {\n",
    "        \"instruction\": \"knit two together (decrease)\",\n",
    "        \"symbol\": \"/\",\n",
    "        \"width\": 1,\n",
    "    },\n",
    "    # Colours\n",
    "    \"a\": {\n",
    "        \"instruction\": \"knit with colour A\",\n",
    "        \"symbol\": \"A\",\n",
    "        \"width\": 1,\n",
    "    },\n",
    "    \"b\": {\n",
    "        \"instruction\": \"knit with colour B\",\n",
    "        \"symbol\": \"B\",\n",
    "        \"width\": 1,\n",
    "    },\n",
    "    \"c\": {\n",
    "        \"instruction\": \"knit with colour C\",\n",
    "        \"symbol\": \"C\",\n",
    "        \"width\": 1,\n",
    "    },\n",
    "\n",
    "}"
   ]
  },
  {
   "cell_type": "code",
   "execution_count": 8,
   "metadata": {},
   "outputs": [],
   "source": [
    "row = brim_rows+1\n",
    "colourwork_instructions = [\n",
    "    f\"Rows {row}-{row+1}: k{cast_on}\",\n",
    "    \"\\nTriangle 1:\",\n",
    "    f\"Row {row+2}: [a7, k1] repeat {number_of_repeats} times\",\n",
    "    f\"Row {row+3}: [k1, a5, k2] repeat {number_of_repeats} times\",\n",
    "    f\"Row {row+4}: [k2, a3, k3] repeat {number_of_repeats} times\",\n",
    "    f\"Row {row+5}: [k3, a1, k4] repeat {number_of_repeats} times\",\n",
    "    \"\\nTriangle 2: \",\n",
    "    f\"Row {row+6}: [b3, k1, b4] repeat {number_of_repeats} times\",\n",
    "    f\"Row {row+7}: [b2, k3, b3] repeat {number_of_repeats} times\",\n",
    "    f\"Row {row+8}: [b1, k5, b2] repeat {number_of_repeats} times\",\n",
    "    f\"Row {row+8}: [k7, b1] repeat {number_of_repeats} times\",\n",
    "    \"\\nTriangle 3: \",\n",
    "    f\"Row {row+2}: [c7, k1] repeat {number_of_repeats} times\",\n",
    "    f\"Row {row+3}: [k1, c5, k2] repeat {number_of_repeats} times\",\n",
    "    f\"Row {row+4}: [k2, c3, k3] repeat {number_of_repeats} times\",\n",
    "    f\"Row {row+5}: [k3, c1, k4] repeat {number_of_repeats} times\",\n",
    "\n",
    "]"
   ]
  },
  {
   "cell_type": "code",
   "execution_count": 9,
   "metadata": {},
   "outputs": [],
   "source": [
    "import math\n",
    "instructions.extend(colourwork_instructions)\n",
    "instructions.append(\"Continue knitting in main colour until hat reaches desired height\")\n",
    "radius = hat_circumference / (math.pi*2)\n",
    "instructions.append(f\"This is likely around {round(radius+.5)}{gauge.units} based on your hat circumference, but try it on!\")\n",
    "instructions.append(\"For a close-fitting beanie it should be tall enough to reach the top of your head.\")"
   ]
  },
  {
   "cell_type": "code",
   "execution_count": 10,
   "metadata": {},
   "outputs": [],
   "source": [
    "# make a crown\n",
    "hat = pyknit.Hat()\n",
    "crown_instructions = hat.crown_decreases(int(number_of_repeats/2), cast_on)\n",
    "instructions.append(\"\\nCrown:\")\n",
    "instructions.extend(crown_instructions)"
   ]
  },
  {
   "cell_type": "code",
   "execution_count": 11,
   "metadata": {},
   "outputs": [
    {
     "name": "stdout",
     "output_type": "stream",
     "text": [
      "Triangle Hat\n",
      "------------\n",
      "\n",
      "Cast on 112 stitches\n",
      "Brim:\n",
      "Rows 1-13: {k2 through the back loop, p2} repeat around (28 repeats total)\n",
      "Rows 14-15: k112\n",
      "\n",
      "Triangle 1:\n",
      "Row 16: [a7, k1] repeat 14 times\n",
      "Row 17: [k1, a5, k2] repeat 14 times\n",
      "Row 18: [k2, a3, k3] repeat 14 times\n",
      "Row 19: [k3, a1, k4] repeat 14 times\n",
      "\n",
      "Triangle 2: \n",
      "Row 20: [b3, k1, b4] repeat 14 times\n",
      "Row 21: [b2, k3, b3] repeat 14 times\n",
      "Row 22: [b1, k5, b2] repeat 14 times\n",
      "Row 22: [k7, b1] repeat 14 times\n",
      "\n",
      "Triangle 3: \n",
      "Row 16: [c7, k1] repeat 14 times\n",
      "Row 17: [k1, c5, k2] repeat 14 times\n",
      "Row 18: [k2, c3, k3] repeat 14 times\n",
      "Row 19: [k3, c1, k4] repeat 14 times\n",
      "Continue knitting in main colour until hat reaches desired height\n",
      "This is likely around 4in based on your hat circumference, but try it on!\n",
      "For a close-fitting beanie it should be tall enough to reach the top of your head.\n",
      "\n",
      "Crown:\n",
      "[k14, k2tog] repeat 7 times (105 stitches)\n",
      "Knit 1 round\n",
      "[k13, k2tog] repeat 7 times (98 stitches)\n",
      "Knit 1 round\n",
      "[k12, k2tog] repeat 7 times (91 stitches)\n",
      "Knit 1 round\n",
      "[k11, k2tog] repeat 7 times (84 stitches)\n",
      "Knit 1 round\n",
      "[k10, k2tog] repeat 7 times (77 stitches)\n",
      "Knit 1 round\n",
      "[k9, k2tog] repeat 7 times (70 stitches)\n",
      "Knit 1 round\n",
      "[k8, k2tog] repeat 7 times (63 stitches)\n",
      "Knit 1 round\n",
      "[k7, k2tog] repeat 7 times (56 stitches)\n",
      "Knit 1 round\n",
      "[k6, k2tog] repeat 7 times (49 stitches)\n",
      "Knit 1 round\n",
      "[k5, k2tog] repeat 7 times (42 stitches)\n",
      "Knit 1 round\n",
      "[k4, k2tog] repeat 7 times (35 stitches)\n",
      "Knit 1 round\n",
      "[k3, k2tog] repeat 7 times (28 stitches)\n",
      "Knit 1 round\n",
      "[k2, k2tog] repeat 7 times (21 stitches)\n",
      "Knit 1 round\n",
      "[k1, k2tog] repeat 7 times (14 stitches)\n",
      "Knit 1 round\n",
      "k2tog 7 times (7 stitches)\n",
      "Knit 1 round\n",
      "Cut yarn leaving 4 inch tail, thread through remaining stitches and pull closed\n"
     ]
    }
   ],
   "source": [
    "# print complete pattern\n",
    "\n",
    "print(\"Triangle Hat\")\n",
    "print(\"------------\")\n",
    "print()\n",
    "for line in instructions:\n",
    "    print(line)"
   ]
  },
  {
   "cell_type": "code",
   "execution_count": null,
   "metadata": {},
   "outputs": [],
   "source": []
  },
  {
   "cell_type": "code",
   "execution_count": null,
   "metadata": {},
   "outputs": [],
   "source": []
  }
 ],
 "metadata": {
  "kernelspec": {
   "display_name": "Python 3",
   "language": "python",
   "name": "python3"
  },
  "language_info": {
   "codemirror_mode": {
    "name": "ipython",
    "version": 3
   },
   "file_extension": ".py",
   "mimetype": "text/x-python",
   "name": "python",
   "nbconvert_exporter": "python",
   "pygments_lexer": "ipython3",
   "version": "3.8.6"
  }
 },
 "nbformat": 4,
 "nbformat_minor": 4
}
